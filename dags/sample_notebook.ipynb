{
 "cells": [
  {
   "cell_type": "code",
   "execution_count": null,
   "id": "fa416a95-a2e0-4c31-805f-95d42df982fa",
   "metadata": {
    "tags": []
   },
   "outputs": [],
   "source": [
    "from skt.gcp import load_bigquery_ipython_magic\n",
    "\n",
    "load_bigquery_ipython_magic()"
   ]
  },
  {
   "cell_type": "code",
   "execution_count": null,
   "id": "89863dfa-3ae8-4838-8200-c02b4b454a4f",
   "metadata": {
    "tags": []
   },
   "outputs": [],
   "source": [
    "%%bq\n",
    "\n",
    "SELECT *\n",
    "FROM x1112596.ob_roaming_country_copy\n",
    "WHERE dt IN (\n",
    "    SELECT MAX(dt) \n",
    "    FROM x1112596.ob_roaming_country_copy\n",
    ")\n",
    "LIMIT 20;"
   ]
  }
 ],
 "metadata": {
  "kernelspec": {
   "display_name": "Python 3 (ipykernel)",
   "language": "python",
   "name": "python3"
  },
  "language_info": {
   "codemirror_mode": {
    "name": "ipython",
    "version": 3
   },
   "file_extension": ".py",
   "mimetype": "text/x-python",
   "name": "python",
   "nbconvert_exporter": "python",
   "pygments_lexer": "ipython3",
   "version": "3.8.12"
  }
 },
 "nbformat": 4,
 "nbformat_minor": 5
}
